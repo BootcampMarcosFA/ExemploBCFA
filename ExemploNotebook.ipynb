{
  "nbformat": 4,
  "nbformat_minor": 0,
  "metadata": {
    "colab": {
      "provenance": [],
      "authorship_tag": "ABX9TyNTWHDBaya7pUr+Cef2Jz7s",
      "include_colab_link": true
    },
    "kernelspec": {
      "name": "python3",
      "display_name": "Python 3"
    },
    "language_info": {
      "name": "python"
    }
  },
  "cells": [
    {
      "cell_type": "markdown",
      "metadata": {
        "id": "view-in-github",
        "colab_type": "text"
      },
      "source": [
        "<a href=\"https://colab.research.google.com/github/BootcampMarcosFA/ExemploBCFA/blob/main/ExemploNotebook.ipynb\" target=\"_parent\"><img src=\"https://colab.research.google.com/assets/colab-badge.svg\" alt=\"Open In Colab\"/></a>"
      ]
    },
    {
      "cell_type": "markdown",
      "source": [
        "# Exemplo de Jupyter Notebook"
      ],
      "metadata": {
        "id": "KJiDZ5gVQglw"
      }
    },
    {
      "cell_type": "markdown",
      "source": [
        "É muito comum que o primeiro exercício ao mexer com uma linguagem nova seja mostrar na tela a mensagem \"Hello World\""
      ],
      "metadata": {
        "id": "6BL0_4RmQvUH"
      }
    },
    {
      "cell_type": "code",
      "execution_count": 2,
      "metadata": {
        "colab": {
          "base_uri": "https://localhost:8080/"
        },
        "id": "B8fZwMHgNicJ",
        "outputId": "8e65a124-8c34-429f-f7bf-d455eec4171a"
      },
      "outputs": [
        {
          "output_type": "stream",
          "name": "stdout",
          "text": [
            "Hello World!\n"
          ]
        }
      ],
      "source": [
        "#Hello world no Python\n",
        "print('Hello World!')"
      ]
    },
    {
      "cell_type": "markdown",
      "source": [
        "Como podemos ver, o código foi executado e aparece na tela!"
      ],
      "metadata": {
        "id": "9jS_16BjRYHw"
      }
    }
  ]
}